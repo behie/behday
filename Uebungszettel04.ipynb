{
 "cells": [
  {
   "cell_type": "markdown",
   "metadata": {},
   "source": [
    "## Übungszettel 4: PCA\n",
    "\n",
    "## Maschinelles Lernen - WiSe 20/21\n",
    "\n",
    "### Abgabe 04.12.2020, 12 Uhr\n",
    "\n",
    "Übungsaufgaben **müssen** in Gruppen von 3-4 Personen abgegeben werden. **Einzelabgaben werden nicht korrigiert bzw. bewertet**. Alle Lösungen sollen in _einem_ IPython Notebook realisiert werden, wobei Teilaufgaben und Zwischenergebnisse ausgegeben bzw. visualisiert werden sollen.\n",
    "Das IPython Notebook und ggf. zugehörige Dateien müssen in ein Ziparchiv gepackt werden und in Ilias hochgeladen werden. Das Ziparchiv soll nach folgendem Muster benannt werden:\n",
    "`UebungXX_Nachname1_Nachname2_Nachname3.zip`, wobei die Nachnamen in alphabetischer Reihenfolge angegeben werden und Umlaute ggf. ersetzt werden."
   ]
  },
  {
   "cell_type": "markdown",
   "metadata": {},
   "source": [
    "### Aufgabe 1 - PCA (1+3+0,5)\n",
    "\n",
    "a) Beschreiben Sie, welchen Zweck die PCA verfolgt bzw. unter welchen Umständen eine PCA sinnvoll ist."
   ]
  },
  {
   "cell_type": "markdown",
   "metadata": {},
   "source": []
  },
  {
   "cell_type": "markdown",
   "metadata": {},
   "source": [
    "b) Gegeben seien die folgenden 6 Datenpunkte $(x,y) \\in \\mathbb{R}^2$:\n",
    "\n",
    "| $x$   | $y$ | \n",
    "| :------ |:------| \n",
    "| 1   | 0 | \n",
    "| 2   | 0 | \n",
    "| 3   | 0 | \n",
    "| 5   | 6 | \n",
    "| 6   | 6 | \n",
    "| 7   | 6 | \n",
    "\n",
    "Führen Sie eine PCA auf den gegebenen Daten von Hand durch. Geben Sie dabei die Eigenvektoren, Eigenwerte und die Kovarianzmatrix an."
   ]
  },
  {
   "cell_type": "markdown",
   "metadata": {},
   "source": [
    "$$ \\text{Hier können Sie Ihre Lösung in } \\mathrm{L\\!\\!^{{}_{A}} \\!\\!\\!\\!\\!\\;\\; T\\!_{\\displaystyle E} \\! X} \\text{ einfügen...} $$\n",
    "\n",
    "![Bild](https://via.placeholder.com/500x80?text=...oder+ein+Bild+einbinden.)"
   ]
  },
  {
   "cell_type": "markdown",
   "metadata": {},
   "source": [
    "c) Nutzen Sie die Klasse `PCA` aus `sklearn.decomposition` und führen Sie die PCA auf den Daten aus b) durch. Visualisieren Sie die Daten vor und nach der PCA."
   ]
  },
  {
   "cell_type": "code",
   "execution_count": 1,
   "metadata": {},
   "outputs": [],
   "source": [
    "# For installing sklearn uncomment the following line:\n",
    "# !pip install sklearn"
   ]
  },
  {
   "cell_type": "markdown",
   "metadata": {},
   "source": [
    "### Aufgabe 2 - Eigenfaces (0,5+0,5+0,5+3,5+1+2+2+0,5)\n",
    "\n",
    "In dieser Aufgabe beschäftigen wir uns mit der Hauptkomponentenanalyse (Principal Component Analysis, PCA) am Beispiel von *Eigenfaces*. Dieses ist ein frühes Verfahren zur automatisierten Gesichtserkennung. Als Datensatz für die Gesichtserkennung wird Labeled Faces in the Wild (LFW) verwendet (http://vis-www.cs.umass.edu/fddb/).\n",
    "\n",
    "In *Eigenfaces* werden die Bilder von Gesichtern kompakt repräsentiert durch die wichtigsten Hauptkomponenten als Basisvektoren. Um ein unbekanntes Gesicht zu klassifizieren, wird dieses in den durch die Eigenfaces (Eigenvektoren) erzeugten Eigenraum projiziert. Dann kann der Abstand (z.B. Euklidischer Abstand) zu den Bildern in der Datenbank gemessen werden und z.B. mittels Nearest-Neighbor-Suche klassifiziert werden. "
   ]
  },
  {
   "cell_type": "code",
   "execution_count": 2,
   "metadata": {},
   "outputs": [],
   "source": [
    "from sklearn.datasets import fetch_lfw_people\n",
    "lfw = fetch_lfw_people(min_faces_per_person=70, resize=0.4)\n",
    "\n",
    "images = lfw['images']       # Faces as grayscale images\n",
    "names = lfw['target_names']  # images as \n",
    "\n",
    "X = lfw.data   # Faces as vectors\n",
    "y = lfw.target # Labels"
   ]
  },
  {
   "cell_type": "markdown",
   "metadata": {},
   "source": [
    "a) Geben Sie die Anzahl der Personen, die Gesamtzahl von Bildern, die Abmessungen der Bilder und die Anzahl von Features (in diesem Fall Pixel) pro Bild aus. Visualisieren Sie ein zufälliges Gesicht aus LFW zusammen mit dem dazugehörigen Namen."
   ]
  },
  {
   "cell_type": "code",
   "execution_count": null,
   "metadata": {
    "scrolled": true
   },
   "outputs": [],
   "source": []
  },
  {
   "cell_type": "markdown",
   "metadata": {
    "scrolled": true
   },
   "source": [
    "b) Teilen Sie den Datensatz in Training- und Testdatensatz. Der Testdatensatz soll jeweils 10% der Bilder einer Person enthalten, der Trainingsdatensatz die restlichen Bilder. Nutzen Sie hierzu eine Methode aus `sklearn`."
   ]
  },
  {
   "cell_type": "code",
   "execution_count": null,
   "metadata": {
    "scrolled": true
   },
   "outputs": [],
   "source": []
  },
  {
   "cell_type": "markdown",
   "metadata": {
    "scrolled": true
   },
   "source": [
    "c) Berechnen Sie das Mean Bild auf den Trainingsdaten und visualisieren Sie es.  "
   ]
  },
  {
   "cell_type": "code",
   "execution_count": null,
   "metadata": {
    "scrolled": true
   },
   "outputs": [],
   "source": []
  },
  {
   "cell_type": "markdown",
   "metadata": {},
   "source": [
    "d) Schreiben Sie eine Methode `pca` die als Eingabe `dataset`, eine Menge von Eingabe-Vektoren, und `q` die Anzahl der Eigenvektoren erhält. Führen Sie in der Methode dann eine PCA auf den Eingabedaten durch und liefern Sie ein Tupel zurück mit folgendem Inhalt:\n",
    "\n",
    "* Projektionsmatrix (Eigenvektoren mit gen größten Eigenwerten) mit Shape (q, #Anzahl Features)\n",
    "* q Eigenwerte absteigend sortiert\n",
    "\n",
    "Gehen Sie wie folgt vor:\n",
    "\n",
    "1. Standardisieren Sie alle Features \n",
    "2. Berechnen Sie die Kovarianzmatrix\n",
    "3. Bestimmen Sie die Eigenwerte und Eigenvektoren (*Tipp:* Nutzen Sie eine Methode für symmetrische Matrizen)\n",
    "4. Konstruieren Sie die Projektionsmatrix aus den q Eigenvektoren mit den größten Eigenwerten\n",
    "\n",
    "Für diese Methode sollen nur Methoden aus `numpy` benutzt werden."
   ]
  },
  {
   "cell_type": "code",
   "execution_count": null,
   "metadata": {},
   "outputs": [],
   "source": []
  },
  {
   "cell_type": "markdown",
   "metadata": {},
   "source": [
    "e) Extrahieren Sie die ersten 100 Eigenfaces (Eigenvektoren) aus dem Trainingsdatensatz mittels PCA. Visualisieren Sie die ersten 20 Eigenfaces."
   ]
  },
  {
   "cell_type": "code",
   "execution_count": null,
   "metadata": {
    "scrolled": false
   },
   "outputs": [],
   "source": []
  },
  {
   "cell_type": "markdown",
   "metadata": {},
   "source": [
    "f) Plotten Sie die ersten 50 (normalisierten) Eigenwerte als Balkendiagramm. Visualisieren Sie auch die kumulativen Varianzen der Hauptkomponenten.\n",
    "Wählen Sie basierend auf dieser Visualisierung die Anzahl `n_pcs` der Hauptkomponenten, die Sie für die Repräsentation der Gesichter nutzen möchten. Begründen Sie Ihre Entscheidung."
   ]
  },
  {
   "cell_type": "code",
   "execution_count": null,
   "metadata": {},
   "outputs": [],
   "source": []
  },
  {
   "cell_type": "markdown",
   "metadata": {},
   "source": [
    "g) Nutzen Sie die Projektionsmatrix, die Sie mit der `pca` Methode aus Aufgabenteil d) erhalten haben um den Testdatensatz in einen Raum mit niedrigerer Dimension zu projezieren. Dazu multiplizieren Sie die Projektionsmatrix mit dem Testdatensatz. Visualisieren Sie dann 5 zufällige rekonstruierte Gesichter aus dem Testdatensatz. Für die Rekonstruktion multiplizieren Sie die PCA-transformierten Daten mit der Projektionsmatrix.\n",
    "\n",
    "Nutzen Sie als Projektionsmatrix jeweils:\n",
    "* die ersten 4 Eigenvektoren\n",
    "* die ersten `n_pcs` Eigenvektoren\n",
    "* alle 100 Eigenvektoren (also die komplette Projektionsmatrix)"
   ]
  },
  {
   "cell_type": "code",
   "execution_count": null,
   "metadata": {},
   "outputs": [],
   "source": []
  },
  {
   "cell_type": "markdown",
   "metadata": {},
   "source": [
    "h) Nun sollen die Bilder aus dem Testdatensatz klassifiziert werden. Gehen Sie dazu wie folgt vor: Transformieren Sie sowohl die Test- als auch die Trainingsdaten, indem Sie die vollständige Projektionsmatrix aus Aufgabenteil d) nutzen. Wählen Sie dann 3 zufällige Vektoren aus dem transformierten Testdatensatz. Berechnen Sie die euklidische Distanz zu allen Vektoren im Trainingsdatensatz.\n",
    "Visualisieren Sie dann das jeweilige Gesicht und geben Sie jeweils die zugehörigen Namen der 5 nächsten Nachbarn zusammen mit der Distanz aus."
   ]
  },
  {
   "cell_type": "code",
   "execution_count": null,
   "metadata": {},
   "outputs": [],
   "source": []
  },
  {
   "cell_type": "markdown",
   "metadata": {},
   "source": [
    "i) Bei der Klassifizierung in Aufgabenteil h) treten häufig Fehler auf. Woran könnte das liegen?"
   ]
  },
  {
   "cell_type": "markdown",
   "metadata": {},
   "source": []
  }
 ],
 "metadata": {
  "kernelspec": {
   "display_name": "Python 3",
   "language": "python",
   "name": "python3"
  },
  "language_info": {
   "codemirror_mode": {
    "name": "ipython",
    "version": 3
   },
   "file_extension": ".py",
   "mimetype": "text/x-python",
   "name": "python",
   "nbconvert_exporter": "python",
   "pygments_lexer": "ipython3",
   "version": "3.8.5"
  }
 },
 "nbformat": 4,
 "nbformat_minor": 1
}
