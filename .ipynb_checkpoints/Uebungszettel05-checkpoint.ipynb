{
 "cells": [
  {
   "cell_type": "markdown",
   "metadata": {},
   "source": [
    "## Übungszettel 5: Clustering\n",
    "\n",
    "## Maschinelles Lernen - WiSe 20/21\n",
    "\n",
    "### Abgabe 11.12.2020, 12 Uhr\n",
    "\n",
    "Übungsaufgaben **müssen** in Gruppen von 3-4 Personen abgegeben werden. **Einzelabgaben werden nicht korrigiert bzw. bewertet**. Alle Lösungen sollen in _einem_ IPython Notebook realisiert werden, wobei Teilaufgaben und Zwischenergebnisse ausgegeben bzw. visualisiert werden sollen.\n",
    "Das IPython Notebook und ggf. zugehörige Dateien müssen in ein Ziparchiv gepackt werden und in Ilias hochgeladen werden. Das Ziparchiv soll nach folgendem Muster benannt werden:\n",
    "`UebungXX_Nachname1_Nachname2_Nachname3.zip`, wobei die Nachnamen in alphabetischer Reihenfolge angegeben werden und Umlaute ggf. ersetzt werden."
   ]
  },
  {
   "cell_type": "markdown",
   "metadata": {},
   "source": [
    "### Aufgabe 1 - K-Means (2,5+0,5+0,5+2,5+2)\n",
    "\n",
    "a) Wenden Sie in diesem Aufgabenteil das K-Means-Verfahren von Hand an. Es sind folgende Datenpunkte im euklidischen Raum gegeben:\n",
    "\n",
    "| Punkt   | X     | Y     |\n",
    "| :------ |------:|------:| \n",
    "| A       | 1.2   | 0.8   |\n",
    "| B       | -0.6  | -1.3  |\n",
    "| C       | -0.8  | 0.2   |\n",
    "| D       | 0.2   | 0.3   |\n",
    "\n",
    "Punkt A und C werden initial zu den Clusterzentroid C1, Punkte B und D initial zu den Clusterzentroid C2\n",
    "zugeordnet.\n",
    "\n",
    "Ermitteln sie die Minimal-Distanz-Partition unter der Anwendung des K-Means-Verfahrens und der euklidischen Distanz. Starten Sie, in dem Sie erst die jeweiligen Clusterschwerpunkte ermitteln."
   ]
  },
  {
   "cell_type": "markdown",
   "metadata": {},
   "source": [
    "![Rechenweg](./example.png)"
   ]
  },
  {
   "cell_type": "markdown",
   "metadata": {},
   "source": [
    "b) Beschreiben Sie kurz wofür Silhouetten berechnet werden. "
   ]
  },
  {
   "cell_type": "markdown",
   "metadata": {},
   "source": []
  },
  {
   "cell_type": "markdown",
   "metadata": {},
   "source": [
    "c) Was bedeuten negative Werte und was gibt der Silhouetten Koeffizient an? "
   ]
  },
  {
   "cell_type": "markdown",
   "metadata": {},
   "source": []
  },
  {
   "cell_type": "markdown",
   "metadata": {},
   "source": [
    "d) Berechnen Sie den Silhouetten Koeffizienten für die Cluster aus Aufgabenteil a) von Hand. "
   ]
  },
  {
   "cell_type": "markdown",
   "metadata": {},
   "source": []
  },
  {
   "cell_type": "markdown",
   "metadata": {},
   "source": []
  },
  {
   "cell_type": "markdown",
   "metadata": {},
   "source": [
    "e) Lesen Sie die Datei `clustering.csv` ein und wenden Sie den K-Means Algorithmus jeweils für $k=\\{2,3,6,10\\}$ an. \n",
    "Führen Sie für jedes $k$ eine Silhouttenanalyse durch (Visualisierung). Wählen Sie schließlich ein geeignetes `k` und visualisieren Sie dafür das Ergebnis als Scatterplot, sodass erkennbar ist, welcher Punkt zu welchem Cluster gehört.Nutzen Sie `sklearn`"
   ]
  },
  {
   "cell_type": "code",
   "execution_count": null,
   "metadata": {},
   "outputs": [],
   "source": []
  },
  {
   "cell_type": "markdown",
   "metadata": {},
   "source": [
    "### Aufgabe 2: Clustering (3+0,5+0,5+1,5+1,5)\n",
    "\n",
    "a) Berechnen Sie ein Hierarchisches Clustering aus der folgenden Distanzmatrix mit der Methode\n",
    "Average Linkage von Hand. Zeichnen Sie das entsprechende Dendrogramm. \n",
    "\n",
    "|        | A    | B    | C     | D     |\n",
    "|--------|------|------|-------|-------|\n",
    "| **A**  | 0    |      |       |       |\n",
    "| **B**  | 4.438|0     |       |       |\n",
    "| **C**  | 3.048|6.777 |0      |       |\n",
    "| **D**  | 2.259|2.887 |4.339  |0      |\n"
   ]
  },
  {
   "cell_type": "markdown",
   "metadata": {},
   "source": [
    "![Rechenweg](./example.png)"
   ]
  },
  {
   "cell_type": "markdown",
   "metadata": {},
   "source": [
    "b) Wodurch unterscheiden sich partitionierende Verfahren von den hierarchischen Verfahren?"
   ]
  },
  {
   "cell_type": "markdown",
   "metadata": {},
   "source": []
  },
  {
   "cell_type": "markdown",
   "metadata": {},
   "source": [
    "c) Erklären Sie *hard clustering* und *soft clustering*."
   ]
  },
  {
   "cell_type": "markdown",
   "metadata": {},
   "source": []
  },
  {
   "cell_type": "markdown",
   "metadata": {},
   "source": [
    "d) Laden sie den Inhalt der Datei `clustering.csv`. Wenden Sie das Clusteringverfahren Average Linkage darauf an. Visualisieren Sie das Dendrogramm. Verwenden Sie `sklearn`."
   ]
  },
  {
   "cell_type": "code",
   "execution_count": null,
   "metadata": {},
   "outputs": [],
   "source": []
  },
  {
   "cell_type": "markdown",
   "metadata": {},
   "source": [
    "e) Wenden Sie das Clusteringverfahren Average Linkage auf die Daten aus d) an. Wählen Sie eine geeignte Anzahl von Clustern. Visualisieren Sie das Ergebnis, sodass erkennbar ist, welcher Punkt zu welchem Cluster gehört. \n",
    "Verwenden Sie `sklearn`."
   ]
  },
  {
   "cell_type": "code",
   "execution_count": null,
   "metadata": {},
   "outputs": [],
   "source": []
  }
 ],
 "metadata": {
  "kernelspec": {
   "display_name": "Python 3",
   "language": "python",
   "name": "python3"
  },
  "language_info": {
   "codemirror_mode": {
    "name": "ipython",
    "version": 3
   },
   "file_extension": ".py",
   "mimetype": "text/x-python",
   "name": "python",
   "nbconvert_exporter": "python",
   "pygments_lexer": "ipython3",
   "version": "3.8.3"
  }
 },
 "nbformat": 4,
 "nbformat_minor": 1
}
